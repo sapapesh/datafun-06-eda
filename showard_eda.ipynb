{
 "cells": [
  {
   "cell_type": "markdown",
   "metadata": {},
   "source": [
    "Add a Markdown cell at the top of your notebook with the introduction (include the title, author, date and the purpose of the project)."
   ]
  },
  {
   "cell_type": "code",
   "execution_count": 1,
   "metadata": {},
   "outputs": [],
   "source": [
    "import matplotlib.pyplot as plt\n",
    "import pandas as pd\n",
    "import seaborn as sns"
   ]
  },
  {
   "cell_type": "markdown",
   "metadata": {},
   "source": [
    "## Step 1. Data Acquisition"
   ]
  },
  {
   "cell_type": "code",
   "execution_count": 2,
   "metadata": {},
   "outputs": [
    {
     "name": "stdout",
     "output_type": "stream",
     "text": [
      "   duration  waiting   kind\n",
      "0     3.600       79   long\n",
      "1     1.800       54  short\n",
      "2     3.333       74   long\n",
      "3     2.283       62  short\n",
      "4     4.533       85   long\n"
     ]
    }
   ],
   "source": [
    "# Load the dataset into a pandas DataFrame - adjust this process for your custom data\n",
    "df = sns.load_dataset('geyser')\n",
    "\n",
    "# Inspect first rows of the DataFrame\n",
    "print(df.head())"
   ]
  },
  {
   "cell_type": "markdown",
   "metadata": {},
   "source": [
    "## Initial Data Inspection"
   ]
  },
  {
   "cell_type": "code",
   "execution_count": 3,
   "metadata": {},
   "outputs": [
    {
     "name": "stdout",
     "output_type": "stream",
     "text": [
      "   duration  waiting   kind\n",
      "0     3.600       79   long\n",
      "1     1.800       54  short\n",
      "2     3.333       74   long\n",
      "3     2.283       62  short\n",
      "4     4.533       85   long\n",
      "5     2.883       55  short\n",
      "6     4.700       88   long\n",
      "7     3.600       85   long\n",
      "8     1.950       51  short\n",
      "9     4.350       85   long\n",
      "(272, 3)\n",
      "duration    float64\n",
      "waiting       int64\n",
      "kind         object\n",
      "dtype: object\n"
     ]
    }
   ],
   "source": [
    "print(df.head(10))\n",
    "print(df.shape)\n",
    "print(df.dtypes)"
   ]
  }
 ],
 "metadata": {
  "kernelspec": {
   "display_name": ".venv",
   "language": "python",
   "name": "python3"
  },
  "language_info": {
   "codemirror_mode": {
    "name": "ipython",
    "version": 3
   },
   "file_extension": ".py",
   "mimetype": "text/x-python",
   "name": "python",
   "nbconvert_exporter": "python",
   "pygments_lexer": "ipython3",
   "version": "3.12.3"
  }
 },
 "nbformat": 4,
 "nbformat_minor": 2
}
